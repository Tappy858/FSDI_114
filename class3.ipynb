{
 "cells": [
  {
   "cell_type": "code",
   "execution_count": 1,
   "id": "1445a3a1-1813-4db3-8f1b-0d1a0de0f129",
   "metadata": {},
   "outputs": [],
   "source": [
    "# Simplified implementaion of a Queue (using built-ins)\n",
    "\n",
    "class Queue:\n",
    "    def __init__(self):\n",
    "        self.items = []\n",
    "\n",
    "    def enqueue(self, value):\n",
    "        self.items.insert(0, value)\n",
    "\n",
    "    def dequeue(self):\n",
    "        return self.items.pop()\n",
    "\n",
    "    #Nice methods to have:\n",
    "    def size(self):\n",
    "        return len(self.items)\n",
    "\n",
    "    def peek(self):\n",
    "        return self.items[len(self.items)-1]\n",
    "\n",
    "    def is_empty(self):\n",
    "        return self.items == []"
   ]
  },
  {
   "cell_type": "markdown",
   "id": "6527b107-1437-487e-93b7-5034fa5f6396",
   "metadata": {},
   "source": [
    "# Problem 4:\n",
    "\n",
    "## Create a \"from scratch\" implementaion of Queue, including, at a minimum \"enqueue\" and \"dequeue\" as its methods\n",
    "\n",
    "### your class should be named QueueII"
   ]
  },
  {
   "cell_type": "markdown",
   "id": "49f8ed32-7077-4f39-a8fc-196e8da53542",
   "metadata": {},
   "source": [
    "define my class Node:\n",
    "    define attribute data with initial value None\n",
    "    define attribute next with intitial value None\n",
    "\n",
    "define my class QueueII:\n",
    "    define attribute front with intial value None\n",
    "    define attribute rear with initial value None\n",
    "\n",
    "define enqueue method with parameter \"value\":\n",
    "    new_node = new instance of Node with \"data\" set to \"value\"\n",
    "    if my queue is empty:\n",
    "        update self.front to point to new_node\n",
    "        update self.rear to point to new_node\n",
    "    otherwise: # the queue is not empty\n",
    "        self.rear.next = new_node\n",
    "        self.rear = new_node\n",
    "\n",
    "define dequeue method:\n",
    "    if the self.front reference is not pointing to None # this means there are nodes in the queue\n",
    "        datum = the data element stored at the front node\n",
    "        self.front = the next node in line\n",
    "        return datum\n",
    "    otherwise:\n",
    "        display an error because the queue is empty\n",
    "        "
   ]
  },
  {
   "cell_type": "code",
   "execution_count": 1,
   "id": "06c98ef9-0aaa-4981-8b40-02e0b06834c4",
   "metadata": {},
   "outputs": [],
   "source": [
    "class QueueII:\n",
    "    def __init__(self):\n",
    "        self.front = None\n",
    "        self.rear = None\n",
    "\n",
    "    class __Node:\n",
    "        def __init__(self, data):\n",
    "            self.data = data\n",
    "            self.next = None\n",
    "\n",
    "    def enqueue(self, value):\n",
    "        new_node = self.__Node(value)\n",
    "        if not self.back:\n",
    "            self.front = new_node\n",
    "            self.back = new_node\n",
    "        else:\n",
    "            old_back = self.back\n",
    "            self.back.next = new_node\n",
    "            self.back = new_node\n",
    "\n",
    "    def dequeue(self):\n",
    "        if self.front:\n",
    "            datum = self.front.data\n",
    "            self.front = self.front.next\n",
    "            if not self.front:\n",
    "                self.back = None\n",
    "            return datum\n",
    "        raise IndexError(\"Stack is empty\")"
   ]
  },
  {
   "cell_type": "markdown",
   "id": "438f72df-f08f-4ad9-a368-430e37f30f4d",
   "metadata": {},
   "source": [
    "# Recursive Functions"
   ]
  },
  {
   "cell_type": "code",
   "execution_count": 16,
   "id": "c2ae7fd1-7040-4871-9f13-cc5d87046483",
   "metadata": {},
   "outputs": [],
   "source": [
    "# the factorial function\n",
    "\n",
    "def factorial(n):\n",
    "    if n == 0:\n",
    "        return 1\n",
    "    return n*factorial(n-1)"
   ]
  },
  {
   "cell_type": "code",
   "execution_count": 15,
   "id": "ee1a3a75-126d-4acd-bf3b-d5d1b5a3d964",
   "metadata": {},
   "outputs": [
    {
     "data": {
      "text/plain": [
       "120"
      ]
     },
     "execution_count": 15,
     "metadata": {},
     "output_type": "execute_result"
    }
   ],
   "source": [
    "factorial(5)"
   ]
  },
  {
   "cell_type": "code",
   "execution_count": 19,
   "id": "6cc8762e-ab61-4c21-875c-52936c03d3e1",
   "metadata": {},
   "outputs": [
    {
     "data": {
      "text/plain": [
       "55"
      ]
     },
     "execution_count": 19,
     "metadata": {},
     "output_type": "execute_result"
    }
   ],
   "source": [
    "# Fibonacci function\n",
    "\n",
    "# F0 = 0; F1 = 1\n",
    "# Fn = Fn-1 + Fn-2\n",
    "\n",
    "# 0, 1, 1, 2, 3, 4, 5, 8, 13, 21\n",
    "\n",
    "from functools import lru_cache\n",
    "\n",
    "@lru_cache\n",
    "def fib(n):\n",
    "    if n < 2:\n",
    "        return n\n",
    "    return fib(n-1) + fib(n-2)\n",
    "\n",
    "fib(10)"
   ]
  },
  {
   "cell_type": "code",
   "execution_count": null,
   "id": "efc8a285-7d84-49e4-9882-97819b335e25",
   "metadata": {},
   "outputs": [],
   "source": []
  }
 ],
 "metadata": {
  "kernelspec": {
   "display_name": "Python 3 (ipykernel)",
   "language": "python",
   "name": "python3"
  },
  "language_info": {
   "codemirror_mode": {
    "name": "ipython",
    "version": 3
   },
   "file_extension": ".py",
   "mimetype": "text/x-python",
   "name": "python",
   "nbconvert_exporter": "python",
   "pygments_lexer": "ipython3",
   "version": "3.10.12"
  }
 },
 "nbformat": 4,
 "nbformat_minor": 5
}
