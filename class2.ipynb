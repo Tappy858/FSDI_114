{
 "cells": [
  {
   "cell_type": "code",
   "execution_count": 14,
   "id": "6b36296f-a2e6-4b17-84e9-e3f526cc81ca",
   "metadata": {},
   "outputs": [],
   "source": [
    "# Simplified implementaion of Stack (relying on built-ins):\n",
    "\n",
    "class Stack:\n",
    "    def __init__(self):\n",
    "        self.items = []\n",
    "\n",
    "    def push(self, value):\n",
    "        self.items.append(value)\n",
    "\n",
    "    def pop(self):\n",
    "        return self.items.pop()\n",
    "\n",
    "    # Nice to have methods\n",
    "    def size(self):\n",
    "        return len(self.items)\n",
    "\n",
    "    def peek(self):\n",
    "        return self.items[len(self.items)-1]\n",
    "\n",
    "    def is_empty(self):\n",
    "        return self.items == []"
   ]
  },
  {
   "cell_type": "markdown",
   "id": "a942457b-0cad-414f-990a-78daf6ed8a12",
   "metadata": {},
   "source": [
    "# Problem 2:\n",
    "Considering the reversal property of stacks, create a function that uses the `Stack` class above to invert a string.\n",
    "\n",
    "```\n",
    "Examples:\n",
    "invert_str(\"Darius\") should return \"suiraD\"\n",
    "invert_str(\"Star\") should return \"ratS\"\n",
    "invert_str(\"Hello\") should return \"olleH\"\n",
    "```"
   ]
  },
  {
   "cell_type": "code",
   "execution_count": 15,
   "id": "09225756-e33e-41d5-b694-ead290853c9d",
   "metadata": {},
   "outputs": [
    {
     "data": {
      "text/plain": [
       "'suiraD'"
      ]
     },
     "execution_count": 15,
     "metadata": {},
     "output_type": "execute_result"
    }
   ],
   "source": [
    "def invert_str(mystring):\n",
    "    stack = Stack()\n",
    "    for char in mystring:\n",
    "        stack.push(char)\n",
    "    out = \"\"\n",
    "    while not stack.is_empty():\n",
    "        out += stack.pop()\n",
    "    return out\n",
    "\n",
    "invert_str(\"Darius\")"
   ]
  },
  {
   "cell_type": "code",
   "execution_count": 20,
   "id": "85fcd4a2-e5fa-4337-a7ba-402473c838d5",
   "metadata": {},
   "outputs": [],
   "source": [
    "# From scratch implementation of Stack\n",
    "\n",
    "class StackII:\n",
    "    def __init__(self):\n",
    "        self.top = None\n",
    "\n",
    "    class __Node:\n",
    "        def __init__(self, data):\n",
    "            self.data = data\n",
    "            self.below = None\n",
    "\n",
    "    def push(self, value):\n",
    "        new_node = self.__Node(value)\n",
    "        if not self.top:\n",
    "            self.top = new_node\n",
    "        else:\n",
    "            old_top = self.top\n",
    "            self.top = new_node\n",
    "            self.top.below = old_top\n",
    "\n",
    "    def pop(self):\n",
    "        if self.top:\n",
    "            datum = self.top.data\n",
    "            self.top = self.top.below\n",
    "            return datum\n",
    "        raise IndexError(\"Stack is emptty\")\n",
    "\n",
    "    # Nice to have methods:\n",
    "    def peek(self):\n",
    "        pass\n",
    "\n",
    "    def size(self):\n",
    "        pass\n",
    "\n",
    "    def is_emptty(self):\n",
    "        return self.top == None"
   ]
  },
  {
   "cell_type": "code",
   "execution_count": null,
   "id": "40d08b38-50cb-4c5e-a08f-28f81fc66bf0",
   "metadata": {},
   "outputs": [],
   "source": []
  }
 ],
 "metadata": {
  "kernelspec": {
   "display_name": "Python 3 (ipykernel)",
   "language": "python",
   "name": "python3"
  },
  "language_info": {
   "codemirror_mode": {
    "name": "ipython",
    "version": 3
   },
   "file_extension": ".py",
   "mimetype": "text/x-python",
   "name": "python",
   "nbconvert_exporter": "python",
   "pygments_lexer": "ipython3",
   "version": "3.10.12"
  }
 },
 "nbformat": 4,
 "nbformat_minor": 5
}
