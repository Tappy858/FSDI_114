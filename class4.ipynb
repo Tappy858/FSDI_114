{
 "cells": [
  {
   "cell_type": "code",
   "execution_count": 23,
   "id": "795c851f-4f6e-4619-9ca5-df3c704eae0d",
   "metadata": {},
   "outputs": [],
   "source": [
    "mylist = []\n",
    "# mylist = list()\n",
    "\n",
    "#help(mylist)"
   ]
  },
  {
   "cell_type": "code",
   "execution_count": 2,
   "id": "8deadef0-f8ef-4851-a679-f10ebbfb8f3e",
   "metadata": {},
   "outputs": [
    {
     "name": "stdout",
     "output_type": "stream",
     "text": [
      "[]\n",
      "[1]\n",
      "[1, 2]\n"
     ]
    }
   ],
   "source": [
    "# Printing an emty list:\n",
    "mylist = []\n",
    "print(mylist)\n",
    "\n",
    "# Printing a list with exactly one element:\n",
    "mylist = [1]\n",
    "print (mylist)\n",
    "\n",
    "# Printing a list with more than one element:\n",
    "mylist.append(2)\n",
    "print(mylist)"
   ]
  },
  {
   "cell_type": "code",
   "execution_count": 15,
   "id": "4f194947-cce4-4616-8511-a6e736ec5d37",
   "metadata": {},
   "outputs": [],
   "source": [
    "# SinglyLinkedList implementation\n",
    "\n",
    "class SinglyLinkedList:\n",
    "    def __init__(self):\n",
    "        self.head = None\n",
    "        \n",
    "    class __Node:   \n",
    "        def __init__(self, data):\n",
    "            self.data = data\n",
    "            self.next = None\n",
    "\n",
    "    def __str__(self):\n",
    "        # Initialize an empty string to store the string representation\n",
    "        result = \"\"\n",
    "        # Start from the head of the list\n",
    "        current = self.head\n",
    "        # Traverse the list\n",
    "        while current:\n",
    "            # Append the data of the current node to the result string\n",
    "            result += str(current.data)\n",
    "            # If the current node is not the last node, append an arrow\n",
    "            if current.next:\n",
    "                result += \" -> \"\n",
    "            # Move to the next node\n",
    "            current = current.next\n",
    "        return result\n",
    "\n",
    "    def append(self, value):\n",
    "        new_node = self.__Node(value)\n",
    "        if not self.head:\n",
    "            self.head = new_node\n",
    "        else:\n",
    "            current = self.head\n",
    "            while current.next:\n",
    "                current = current.next\n",
    "            current.next = new_node\n",
    "\n",
    "    def insert( self, index, value):\n",
    "        new_node = self.__Node(value)\n",
    "        if not self.head:\n",
    "            self.head = new_node\n",
    "        else:\n",
    "            count = 0\n",
    "            current = self.head\n",
    "            prev = None\n",
    "            if index == count:\n",
    "                old_head = self.head\n",
    "                self.head = new_node\n",
    "                new_node.next = old_head\n",
    "            else:\n",
    "                while current.next and count != index:\n",
    "                    prev = current\n",
    "                    current = current.next\n",
    "                    count += 1\n",
    "                if count == index:\n",
    "                    prev.next = new_node\n",
    "                    new_node.next = current\n",
    "                else:\n",
    "                    current.next = new_node\n",
    "    \n",
    "    def remove(self, value):\n",
    "        current = self.head\n",
    "        prev = None\n",
    "        while current:\n",
    "            if current.data == value:\n",
    "                if prev:\n",
    "                    prev.next = current.next\n",
    "                else:\n",
    "                    self.head = current.next\n",
    "                return\n",
    "            prev = current\n",
    "            current = current.next\n",
    "    \n",
    "    def index(self, value):\n",
    "        current = self.head\n",
    "        index = 0\n",
    "        while current:\n",
    "            if current.data == value:\n",
    "                return index\n",
    "            current = current.next\n",
    "            index += 1\n",
    "        raise ValueError(\"Value not found\")\n"
   ]
  },
  {
   "cell_type": "code",
   "execution_count": 4,
   "id": "21e098d7-f442-495d-9534-f80101981a6e",
   "metadata": {},
   "outputs": [
    {
     "name": "stdout",
     "output_type": "stream",
     "text": [
      "[1, 2, 3]\n"
     ]
    }
   ],
   "source": [
    "new_list = [1, 3]\n",
    "new_list.insert(1, 2)\n",
    "\n",
    "print (new_list)"
   ]
  },
  {
   "cell_type": "code",
   "execution_count": 5,
   "id": "6cf20119-0edc-4de1-a26f-f2e266028cb1",
   "metadata": {},
   "outputs": [
    {
     "name": "stdout",
     "output_type": "stream",
     "text": [
      "[0]\n",
      "[-1, 0]\n",
      "[-1, -0.5, 0]\n",
      "[-1, -0.5, 0, 1]\n"
     ]
    }
   ],
   "source": [
    "new_list = []\n",
    "new_list.insert(100, 0)\n",
    "\n",
    "print(new_list)\n",
    "\n",
    "# an example of replacincing the head of the list:\n",
    "new_list.insert(0, -1)\n",
    "print(new_list)\n",
    "\n",
    "# emaple of adding new node between 0 and -1:\n",
    "new_list.insert(1, -0.5)\n",
    "print(new_list)\n",
    "\n",
    "# what happens when the index is equal to or exceeds the length of the list:\n",
    "new_list.insert(3, 1)\n",
    "print(new_list)"
   ]
  },
  {
   "cell_type": "code",
   "execution_count": 9,
   "id": "65096fbc-579d-4ed3-b8e9-81c36ed45da9",
   "metadata": {},
   "outputs": [],
   "source": [
    "# Doubly Linked Lists\n",
    "\n",
    "class DoublyLinkedList:\n",
    "    def __init__(self):\n",
    "        self.head = None\n",
    "\n",
    "    class __Node:\n",
    "        def __init__(self, data):\n",
    "            self.data = data\n",
    "            self.next = None\n",
    "            self.prev = None\n",
    "\n",
    "    def append(self, value):\n",
    "        new_noe = self.__Node(value)\n",
    "        if not self.head:\n",
    "            self.head = new_node\n",
    "        else:\n",
    "            current = self.head\n",
    "            while current.next:\n",
    "                current = current.next\n",
    "            current.next = new_node\n",
    "            new_node.prev = current\n"
   ]
  },
  {
   "cell_type": "code",
   "execution_count": 10,
   "id": "92c061d7-23ad-479f-ae57-727ac0559ed1",
   "metadata": {},
   "outputs": [
    {
     "name": "stdout",
     "output_type": "stream",
     "text": [
      "10 -> 20 -> 30\n"
     ]
    }
   ],
   "source": [
    "# Create a singly linked list\n",
    "sll = SinglyLinkedList()\n",
    "\n",
    "# Append elements to the list\n",
    "sll.append(10)\n",
    "sll.append(20)\n",
    "sll.append(30)\n",
    "\n",
    "# Print the list\n",
    "print(sll)"
   ]
  },
  {
   "cell_type": "code",
   "execution_count": 11,
   "id": "022763a9-788f-4add-ad1c-ae7ddf7212c4",
   "metadata": {},
   "outputs": [
    {
     "name": "stdout",
     "output_type": "stream",
     "text": [
      "10 -> 15 -> 20 -> 30\n"
     ]
    }
   ],
   "source": [
    "# Insert an element at a specific index\n",
    "sll.insert(1, 15)\n",
    "\n",
    "# Print the list again\n",
    "print(sll)"
   ]
  },
  {
   "cell_type": "code",
   "execution_count": 12,
   "id": "b59ea432-27eb-44bf-9816-f5feba8f6ff7",
   "metadata": {},
   "outputs": [
    {
     "name": "stdout",
     "output_type": "stream",
     "text": [
      "10 -> 15 -> 30\n"
     ]
    }
   ],
   "source": [
    "# Remove an element from the list\n",
    "sll.remove(20)\n",
    "\n",
    "# Print the list after removal\n",
    "print(sll)"
   ]
  },
  {
   "cell_type": "code",
   "execution_count": 22,
   "id": "5f7a92ae-5016-474f-b742-d6698d2a5d66",
   "metadata": {},
   "outputs": [
    {
     "name": "stdout",
     "output_type": "stream",
     "text": [
      "Index of 20: 1\n"
     ]
    }
   ],
   "source": [
    "# Create a SinglyLinkedList object\n",
    "sll = SinglyLinkedList()\n",
    "\n",
    "# Append elements to the list\n",
    "sll.append(10) #0\n",
    "sll.append(20) #1\n",
    "sll.append(30) #2\n",
    "\n",
    "# Find the index of the value 20 in the linked list\n",
    "index = sll.index(20)\n",
    "\n",
    "# Print the result\n",
    "print(\"Index of 20:\", index)"
   ]
  },
  {
   "cell_type": "code",
   "execution_count": null,
   "id": "0361a474-4be7-4925-9550-5c75971402f8",
   "metadata": {},
   "outputs": [],
   "source": []
  }
 ],
 "metadata": {
  "kernelspec": {
   "display_name": "Python 3 (ipykernel)",
   "language": "python",
   "name": "python3"
  },
  "language_info": {
   "codemirror_mode": {
    "name": "ipython",
    "version": 3
   },
   "file_extension": ".py",
   "mimetype": "text/x-python",
   "name": "python",
   "nbconvert_exporter": "python",
   "pygments_lexer": "ipython3",
   "version": "3.10.12"
  }
 },
 "nbformat": 4,
 "nbformat_minor": 5
}
