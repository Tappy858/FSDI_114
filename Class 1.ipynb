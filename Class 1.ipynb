{
 "cells": [
  {
   "cell_type": "code",
   "execution_count": 2,
   "id": "864c3d92-a3de-4ef2-a4ea-59d5838cdbda",
   "metadata": {},
   "outputs": [
    {
     "name": "stdout",
     "output_type": "stream",
     "text": [
      "h\n",
      "e\n",
      "l\n",
      "l\n",
      "o\n",
      ",\n",
      " \n",
      "w\n",
      "o\n",
      "r\n",
      "l\n",
      "d\n"
     ]
    }
   ],
   "source": [
    "for char in \"hello, world\":\n",
    "    print(char)"
   ]
  },
  {
   "cell_type": "markdown",
   "id": "31c6ba59-34fa-41b6-8aa8-9e6da76684fc",
   "metadata": {},
   "source": [
    "# Problem 1\n",
    "\n",
    "## Anagram Check\n",
    "Given two strings create a function that returns 'True' if these are anagrams of each other, 'False' otherwise.\n",
    "\n",
    "### Acceptance Criteria\n",
    "Two strings are anagrams of each other if all the criteria below are met:\n",
    "1. They must use the same letters the same amount of times.\n",
    "2. They must be of equal length.\n",
    "\n",
    "```\n",
    "Examples:\n",
    "anagram_check(\"earth\", \"heart\") returns True\n",
    "anagram_check(\"star\", \"rats\") returns True\n",
    "anagram_check(\"cars\", \"scar\") returns True\n",
    "'''"
   ]
  },
  {
   "cell_type": "code",
   "execution_count": 2,
   "id": "f0bd323a-9b39-46f4-8cce-851512866f3f",
   "metadata": {},
   "outputs": [
    {
     "ename": "SyntaxError",
     "evalue": "invalid syntax (3694877685.py, line 3)",
     "output_type": "error",
     "traceback": [
      "\u001b[0;36m  Cell \u001b[0;32mIn[2], line 3\u001b[0;36m\u001b[0m\n\u001b[0;31m    ```\u001b[0m\n\u001b[0m    ^\u001b[0m\n\u001b[0;31mSyntaxError\u001b[0m\u001b[0;31m:\u001b[0m invalid syntax\n"
     ]
    }
   ],
   "source": [
    "# Pseudocode for anagram check function\n",
    "\n",
    "```\n",
    "define my function anagram_check which recieves parameters str1 and str2:\n",
    "    # First thing I need to do is level the playing field and remove spaces\n",
    "    str1 = str1 without spaces\n",
    "    str2 = str2 without spaces\n",
    "    str1 = str1 in lower case\n",
    "    str2 = str2 in lower case\n",
    "    if the length of str1 is not egual to the length of str2:\n",
    "        return False\n",
    "    otherwise:\n",
    "        # I would like to track which letters I've seen and how many times\n",
    "        dict_1 = new dictionary\n",
    "        dict_2 = new dictionary\n",
    "        for each number in the range from 0 to the length of str1:\n",
    "            if the letter at position 0 in str1 is in dict_1:\n",
    "                add 1 to the total number of times Ive seen that letter\n",
    "            otherwise:\n",
    "                create a new entry in dict_1 with that leter and the value set to 1\n",
    "            if the letter at position 0 in str2 is in dict_2:\n",
    "                add 1 to the total number of times Ive seen that letter\n",
    "            otherwise:\n",
    "                create a new entry in dict_2 with that letter and the value set to 1\n",
    "    return dict_1 == dict_2\n",
    "```\n",
    "\n",
    "# Challenge for you: Turn this pseudocode into real python3 code!"
   ]
  },
  {
   "cell_type": "code",
   "execution_count": null,
   "id": "4f7c4f76-c163-48d4-89af-3a62f1c0109f",
   "metadata": {},
   "outputs": [],
   "source": []
  }
 ],
 "metadata": {
  "kernelspec": {
   "display_name": "Python 3 (ipykernel)",
   "language": "python",
   "name": "python3"
  },
  "language_info": {
   "codemirror_mode": {
    "name": "ipython",
    "version": 3
   },
   "file_extension": ".py",
   "mimetype": "text/x-python",
   "name": "python",
   "nbconvert_exporter": "python",
   "pygments_lexer": "ipython3",
   "version": "3.10.12"
  }
 },
 "nbformat": 4,
 "nbformat_minor": 5
}
